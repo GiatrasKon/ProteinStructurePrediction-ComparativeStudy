{
 "cells": [
  {
   "cell_type": "code",
   "execution_count": null,
   "metadata": {
    "id": "o_XOV5uwr6QP"
   },
   "outputs": [],
   "source": [
    "from Bio import PDB\n",
    "import pandas as pd\n",
    "import numpy as np\n",
    "import matplotlib.pyplot as plt\n",
    "import os\n",
    "from Bio.PDB import PDBParser\n",
    "from Bio.PDB.Polypeptide import three_to_one\n",
    "from Bio.SVDSuperimposer import SVDSuperimposer\n",
    "from Bio.PDB.Structure import Structure\n",
    "from Bio.PDB.PDBExceptions import PDBConstructionWarning\n",
    "from Bio.PDB.PDBIO import PDBIO\n",
    "import warnings\n",
    "import seaborn as sns\n",
    "\n",
    "%matplotlib inline\n",
    "\n",
    "# Suppress PDB construction warnings\n",
    "warnings.simplefilter('ignore', PDBConstructionWarning)"
   ]
  },
  {
   "attachments": {},
   "cell_type": "markdown",
   "metadata": {
    "id": "5PoaFFlgDt1g"
   },
   "source": [
    "# Functions #"
   ]
  },
  {
   "cell_type": "code",
   "execution_count": 76,
   "metadata": {},
   "outputs": [],
   "source": [
    "def import_final_models(pdb_file_path):\n",
    "    # Create a list to store the final models\n",
    "    final_models = []\n",
    "\n",
    "    # Create a PDBParser object\n",
    "    parser = PDB.PDBParser()\n",
    "\n",
    "    # Parse the PDB file\n",
    "    structure = parser.get_structure('pdb', pdb_file_path)\n",
    "\n",
    "    # Get the base directory path\n",
    "    base_directory = os.path.dirname(pdb_file_path)\n",
    "\n",
    "    # Create the 'content' directory if it doesn't exist\n",
    "    content_directory = os.path.join(base_directory, 'content')\n",
    "    os.makedirs(content_directory, exist_ok=True)\n",
    "\n",
    "    # Iterate over the models (states) in the structure\n",
    "    for model in structure.get_models():\n",
    "        # Create a new structure with only the current model\n",
    "        model_structure = PDB.Structure.Structure(model.id)\n",
    "        model_structure.add(model)\n",
    "\n",
    "        # Generate the output filename for the current model\n",
    "        output_file_name = os.path.join(content_directory, f\"model_{model.id}.pdb\")\n",
    "\n",
    "        # Save the current model as a separate PDB file\n",
    "        pdb_io = PDB.PDBIO()\n",
    "        pdb_io.set_structure(model_structure)\n",
    "        pdb_io.save(output_file_name)\n",
    "\n",
    "        # Append the current model to the list of final models\n",
    "        output = parser.get_structure('model_structure', output_file_name)\n",
    "        final_models.append(output)\n",
    "\n",
    "    return final_models"
   ]
  },
  {
   "cell_type": "code",
   "execution_count": null,
   "metadata": {
    "id": "AafQLmWAeGpw"
   },
   "outputs": [],
   "source": [
    "# Function to align a model structure onto a native structure\n",
    "def align(native, model, atom_types = [\"CA\"]) -> SVDSuperimposer:\n",
    "    \"\"\"\n",
    "    Aligns a model structure onto a native structure\n",
    "    Using the atom types listed in `atom_types`.\n",
    "    \"\"\"\n",
    "\n",
    "    # A long one-liner that gets the one-letter amino acid representation for each residue in a structure,\n",
    "    # then joins those letters into one long string.\n",
    "    native_seq = \"\".join([ three_to_one(r.resname) for r in native.get_residues()])\n",
    "    model_seq = \"\".join([ three_to_one(r.resname) for r in model.get_residues()])\n",
    "\n",
    "    assert len(model_seq) == len(native_seq), \"The sequences should be of identical length.\"\n",
    "\n",
    "\n",
    "    native_coords = [ a.coord for a in native[0].get_atoms() if  a.name in atom_types ]\n",
    "    model_coords = [ a.coord for a in model[0].get_atoms() if  a.name in atom_types ]\n",
    "\n",
    "    si = SVDSuperimposer()\n",
    "    si.set(np.array(native_coords), np.array(model_coords))\n",
    "    si.run() # Run the SVD alignment\n",
    "\n",
    "    return si"
   ]
  },
  {
   "cell_type": "code",
   "execution_count": 78,
   "metadata": {
    "id": "C4pAVxtOewOZ"
   },
   "outputs": [],
   "source": [
    "def import_pdb_files(file_paths):\n",
    "    structures = []\n",
    "    for file_path in file_paths:\n",
    "        structure_id = os.path.splitext(os.path.basename(file_path))[0]\n",
    "        structure = PDB.PDBParser().get_structure(structure_id, file_path)\n",
    "        structures.append(structure)\n",
    "    return structures\n"
   ]
  },
  {
   "cell_type": "code",
   "execution_count": 79,
   "metadata": {
    "id": "XWJOgUHwjvE-"
   },
   "outputs": [],
   "source": [
    "def generate_file_paths(base_path, base_name, start_num, end_num):\n",
    "    file_paths = []\n",
    "    for num in range(start_num, end_num + 1):\n",
    "        file_name = f\"{base_name}{num:04}.pdb\"  # Pad the number with leading zeros\n",
    "        file_path = os.path.join(base_path, file_name)\n",
    "        file_paths.append(file_path)\n",
    "    return file_paths"
   ]
  },
  {
   "cell_type": "code",
   "execution_count": 80,
   "metadata": {
    "id": "LJNBfyhLv1fD"
   },
   "outputs": [],
   "source": [
    "def concatenate_dataframes(df1, df2, df3):\n",
    "    concatenated_df = pd.concat([df1, df2, df3], axis=0)\n",
    "    return concatenated_df\n",
    "\n",
    "def concatenate_dataframe_and_dict(dict1, dict2, dict3):\n",
    "    dict_dfs = [pd.DataFrame.from_dict(dict1, orient='index').T,\n",
    "                pd.DataFrame.from_dict(dict2, orient='index').T,\n",
    "                pd.DataFrame.from_dict(dict3, orient='index').T]\n",
    "    concatenated_df = pd.concat(dict_dfs, axis=0)\n",
    "    return concatenated_df"
   ]
  },
  {
   "cell_type": "code",
   "execution_count": 81,
   "metadata": {
    "id": "-FJhRhWzL63y"
   },
   "outputs": [],
   "source": [
    "def align_and_calculate_mean_rmsd(structures, final_models, atom_types, top_val=10):\n",
    "    mean_rmsd_dict = {\n",
    "        \"end_num\": end_num,\n",
    "        \"base_name\": base_name.split(\"_\", 1)[0],\n",
    "        \"min_mean_rmsd\": float(\"inf\"),\n",
    "        \"min_rmsd_structure\": None,\n",
    "    }\n",
    "    all_values = []\n",
    "    min_values = []\n",
    "    iterrations = []\n",
    "\n",
    "    for structure in structures:\n",
    "        rmsd_values = []\n",
    "        min_rmsd = float(\"inf\")\n",
    "        min_iteration = None\n",
    "\n",
    "        for iteration, model in enumerate(final_models):\n",
    "            si = align(model, structure, atom_types)\n",
    "            rmsd = si.get_rms()\n",
    "            rmsd_values.append(rmsd)\n",
    "\n",
    "            if rmsd < min_rmsd:\n",
    "              min_rmsd = rmsd\n",
    "              min_iteration = iteration\n",
    "\n",
    "        mean_rmsd = sum(rmsd_values) / len(rmsd_values)\n",
    "        min_values.append(min_rmsd)\n",
    "        iterrations.append(min_iteration)\n",
    "        all_values.append(mean_rmsd)\n",
    "\n",
    "        if mean_rmsd < mean_rmsd_dict[\"min_mean_rmsd\"]:\n",
    "            mean_rmsd_dict[\"min_mean_rmsd\"] = mean_rmsd\n",
    "            mean_rmsd_dict[\"min_rmsd_structure\"] = structure\n",
    "\n",
    "    data_temp = {'All': all_values,\n",
    "                 'Min_Values': min_values,\n",
    "                 'Iterations': iterrations}\n",
    "\n",
    "    temp_dataframe = pd.DataFrame(data_temp)\n",
    "    sorted_temp_dataframe = temp_dataframe.sort_values(by='All')\n",
    "    top_rows_dataframe = sorted_temp_dataframe.head(top_val)\n",
    "\n",
    "    list_id = [mean_rmsd_dict['base_name'] + '_' + str(mean_rmsd_dict[\"end_num\"])] * top_val\n",
    "    dict_temp = {'ID': list_id,\n",
    "                 'Mean_RMSD': top_rows_dataframe['All'].values,\n",
    "                 'Min_Values': top_rows_dataframe['Min_Values'].values,\n",
    "                 'Best_state': top_rows_dataframe['Iterations'].values}\n",
    "    df = pd.DataFrame(dict_temp)\n",
    "\n",
    "    return mean_rmsd_dict, df"
   ]
  },
  {
   "attachments": {},
   "cell_type": "markdown",
   "metadata": {
    "id": "bLKHSjYHzpYi"
   },
   "source": [
    "# 2JYV #"
   ]
  },
  {
   "attachments": {},
   "cell_type": "markdown",
   "metadata": {
    "id": "W8HhELAdxOs_"
   },
   "source": [
    "------------------------------------------------\n",
    "For 10 JYV\n",
    "\n",
    "------------------------------------------------"
   ]
  },
  {
   "cell_type": "code",
   "execution_count": null,
   "metadata": {
    "id": "jy3-DtyYTsJo"
   },
   "outputs": [],
   "source": [
    "# Specify the path to your PDB file=s\n",
    "pdb_file_path = '../data/2jyv_pdbs/2jyv.pdb' \n",
    "\n",
    "base_path = \"../data/2jyv_pdbs/10/\"  \n",
    "base_name = \"2JYV_10_\"     \n",
    "start_num = 1\n",
    "end_num = 10\n",
    "\n",
    "p = PDBParser(QUIET=True)"
   ]
  },
  {
   "cell_type": "code",
   "execution_count": 83,
   "metadata": {
    "id": "VKV91LNxidES"
   },
   "outputs": [],
   "source": [
    "file_paths = generate_file_paths(base_path, base_name, start_num, end_num)\n",
    "\n",
    "structures = import_pdb_files(file_paths)\n",
    "\n",
    "models = import_final_models(pdb_file_path)"
   ]
  },
  {
   "cell_type": "code",
   "execution_count": null,
   "metadata": {
    "colab": {
     "base_uri": "https://localhost:8080/"
    },
    "executionInfo": {
     "elapsed": 28,
     "status": "ok",
     "timestamp": 1686124621291,
     "user": {
      "displayName": "akis nakis",
      "userId": "16895218271955728336"
     },
     "user_tz": -180
    },
    "id": "v7vwWcvtnrDT",
    "outputId": "dee75c04-fd7a-41fc-ec17-1d9ce8083992"
   },
   "outputs": [],
   "source": [
    "# Call the align_and_calculate_mean_rmsd function\n",
    "mean_rmsd_info_10 , df_top_10_10 = align_and_calculate_mean_rmsd(structures, models,\"CA\",10)"
   ]
  },
  {
   "cell_type": "code",
   "execution_count": 85,
   "metadata": {
    "colab": {
     "base_uri": "https://localhost:8080/"
    },
    "executionInfo": {
     "elapsed": 25,
     "status": "ok",
     "timestamp": 1686124621292,
     "user": {
      "displayName": "akis nakis",
      "userId": "16895218271955728336"
     },
     "user_tz": -180
    },
    "id": "C5te-enVAc1y",
    "outputId": "a0e41ce3-7139-4cc8-89a5-d3d002a90d9a"
   },
   "outputs": [
    {
     "data": {
      "text/html": [
       "<div>\n",
       "<style scoped>\n",
       "    .dataframe tbody tr th:only-of-type {\n",
       "        vertical-align: middle;\n",
       "    }\n",
       "\n",
       "    .dataframe tbody tr th {\n",
       "        vertical-align: top;\n",
       "    }\n",
       "\n",
       "    .dataframe thead th {\n",
       "        text-align: right;\n",
       "    }\n",
       "</style>\n",
       "<table border=\"1\" class=\"dataframe\">\n",
       "  <thead>\n",
       "    <tr style=\"text-align: right;\">\n",
       "      <th></th>\n",
       "      <th>ID</th>\n",
       "      <th>Mean_RMSD</th>\n",
       "      <th>Min_Values</th>\n",
       "      <th>Best_state</th>\n",
       "    </tr>\n",
       "  </thead>\n",
       "  <tbody>\n",
       "    <tr>\n",
       "      <th>0</th>\n",
       "      <td>2JYV_10</td>\n",
       "      <td>5.668796</td>\n",
       "      <td>5.376244</td>\n",
       "      <td>6</td>\n",
       "    </tr>\n",
       "    <tr>\n",
       "      <th>1</th>\n",
       "      <td>2JYV_10</td>\n",
       "      <td>5.845028</td>\n",
       "      <td>5.499420</td>\n",
       "      <td>4</td>\n",
       "    </tr>\n",
       "    <tr>\n",
       "      <th>2</th>\n",
       "      <td>2JYV_10</td>\n",
       "      <td>5.994509</td>\n",
       "      <td>5.746813</td>\n",
       "      <td>4</td>\n",
       "    </tr>\n",
       "    <tr>\n",
       "      <th>3</th>\n",
       "      <td>2JYV_10</td>\n",
       "      <td>6.622753</td>\n",
       "      <td>6.318227</td>\n",
       "      <td>9</td>\n",
       "    </tr>\n",
       "    <tr>\n",
       "      <th>4</th>\n",
       "      <td>2JYV_10</td>\n",
       "      <td>6.623281</td>\n",
       "      <td>6.377687</td>\n",
       "      <td>4</td>\n",
       "    </tr>\n",
       "    <tr>\n",
       "      <th>5</th>\n",
       "      <td>2JYV_10</td>\n",
       "      <td>7.292452</td>\n",
       "      <td>7.011738</td>\n",
       "      <td>0</td>\n",
       "    </tr>\n",
       "    <tr>\n",
       "      <th>6</th>\n",
       "      <td>2JYV_10</td>\n",
       "      <td>7.500847</td>\n",
       "      <td>7.116710</td>\n",
       "      <td>6</td>\n",
       "    </tr>\n",
       "    <tr>\n",
       "      <th>7</th>\n",
       "      <td>2JYV_10</td>\n",
       "      <td>7.603549</td>\n",
       "      <td>7.371781</td>\n",
       "      <td>9</td>\n",
       "    </tr>\n",
       "    <tr>\n",
       "      <th>8</th>\n",
       "      <td>2JYV_10</td>\n",
       "      <td>8.253253</td>\n",
       "      <td>7.962959</td>\n",
       "      <td>2</td>\n",
       "    </tr>\n",
       "    <tr>\n",
       "      <th>9</th>\n",
       "      <td>2JYV_10</td>\n",
       "      <td>9.473306</td>\n",
       "      <td>9.217922</td>\n",
       "      <td>3</td>\n",
       "    </tr>\n",
       "  </tbody>\n",
       "</table>\n",
       "</div>"
      ],
      "text/plain": [
       "        ID  Mean_RMSD  Min_Values  Best_state\n",
       "0  2JYV_10   5.668796    5.376244           6\n",
       "1  2JYV_10   5.845028    5.499420           4\n",
       "2  2JYV_10   5.994509    5.746813           4\n",
       "3  2JYV_10   6.622753    6.318227           9\n",
       "4  2JYV_10   6.623281    6.377687           4\n",
       "5  2JYV_10   7.292452    7.011738           0\n",
       "6  2JYV_10   7.500847    7.116710           6\n",
       "7  2JYV_10   7.603549    7.371781           9\n",
       "8  2JYV_10   8.253253    7.962959           2\n",
       "9  2JYV_10   9.473306    9.217922           3"
      ]
     },
     "execution_count": 85,
     "metadata": {},
     "output_type": "execute_result"
    }
   ],
   "source": [
    "df_top_10_10"
   ]
  },
  {
   "attachments": {},
   "cell_type": "markdown",
   "metadata": {
    "id": "0BfcI6NbxUYJ"
   },
   "source": [
    "------------------------------------------------\n",
    "For 100 JYV\n",
    "\n",
    "------------------------------------------------"
   ]
  },
  {
   "cell_type": "code",
   "execution_count": null,
   "metadata": {
    "colab": {
     "base_uri": "https://localhost:8080/"
    },
    "executionInfo": {
     "elapsed": 43911,
     "status": "ok",
     "timestamp": 1686124665197,
     "user": {
      "displayName": "akis nakis",
      "userId": "16895218271955728336"
     },
     "user_tz": -180
    },
    "id": "VO1XTSFqv2ox",
    "outputId": "314b2eb3-e015-4e6a-e4ec-17d889039068"
   },
   "outputs": [],
   "source": [
    "base_path = \"../data/2jyv_pdbs/100/\"  ############\n",
    "base_name = \"2JYV_100_\"     #############\n",
    "start_num = 1\n",
    "end_num = 100\n",
    "\n",
    "p = PDBParser(QUIET=True)\n",
    "\n",
    "file_paths = generate_file_paths(base_path, base_name, start_num, end_num)\n",
    "\n",
    "structures = import_pdb_files(file_paths)\n",
    "\n",
    "# Call the align_and_calculate_mean_rmsd function\n",
    "mean_rmsd_info_100 , df_top_10_100 = align_and_calculate_mean_rmsd(structures, models,\"CA\",10)"
   ]
  },
  {
   "cell_type": "code",
   "execution_count": 87,
   "metadata": {
    "colab": {
     "base_uri": "https://localhost:8080/"
    },
    "executionInfo": {
     "elapsed": 12,
     "status": "ok",
     "timestamp": 1686124665197,
     "user": {
      "displayName": "akis nakis",
      "userId": "16895218271955728336"
     },
     "user_tz": -180
    },
    "id": "BmZ35Yi4MBgD",
    "outputId": "0bf13866-f81f-45d2-bc46-9686bbc98c12"
   },
   "outputs": [
    {
     "data": {
      "text/plain": [
       "0    4\n",
       "1    4\n",
       "2    4\n",
       "3    4\n",
       "4    4\n",
       "5    0\n",
       "6    6\n",
       "7    4\n",
       "8    4\n",
       "9    5\n",
       "Name: Best_state, dtype: int64"
      ]
     },
     "execution_count": 87,
     "metadata": {},
     "output_type": "execute_result"
    }
   ],
   "source": [
    "df_top_10_100.Best_state"
   ]
  },
  {
   "attachments": {},
   "cell_type": "markdown",
   "metadata": {
    "id": "6ARTRsg7xWHL"
   },
   "source": [
    "------------------------------------------------\n",
    "For 1000 JYV\n",
    "\n",
    "------------------------------------------------"
   ]
  },
  {
   "cell_type": "code",
   "execution_count": null,
   "metadata": {
    "colab": {
     "base_uri": "https://localhost:8080/"
    },
    "executionInfo": {
     "elapsed": 393704,
     "status": "ok",
     "timestamp": 1686125058891,
     "user": {
      "displayName": "akis nakis",
      "userId": "16895218271955728336"
     },
     "user_tz": -180
    },
    "id": "tsgDmjJJxMrA",
    "outputId": "e3b8fb7c-0396-465f-9d33-eb574864cdd6"
   },
   "outputs": [],
   "source": [
    "base_path = \"../data/2jyv_pdbs/1000/\"  ############\n",
    "base_name = \"2JYV_1000_\"     #############\n",
    "start_num = 1\n",
    "end_num = 1000\n",
    "\n",
    "p = PDBParser(QUIET=True)\n",
    "\n",
    "file_paths = generate_file_paths(base_path, base_name, start_num, end_num)\n",
    "\n",
    "structures = import_pdb_files(file_paths)\n",
    "\n",
    "# Call the align_and_calculate_mean_rmsd function\n",
    "mean_rmsd_info_1000 , df_top_10_1000 = align_and_calculate_mean_rmsd(structures, models,\"CA\",10)"
   ]
  },
  {
   "cell_type": "code",
   "execution_count": 89,
   "metadata": {
    "colab": {
     "base_uri": "https://localhost:8080/"
    },
    "executionInfo": {
     "elapsed": 9,
     "status": "ok",
     "timestamp": 1686125058892,
     "user": {
      "displayName": "akis nakis",
      "userId": "16895218271955728336"
     },
     "user_tz": -180
    },
    "id": "ZMC8t3lNMUCV",
    "outputId": "9a30af44-57f7-47e5-ad63-acd48666f576"
   },
   "outputs": [
    {
     "data": {
      "text/plain": [
       "0    4\n",
       "1    9\n",
       "2    9\n",
       "3    4\n",
       "4    4\n",
       "5    8\n",
       "6    4\n",
       "7    4\n",
       "8    9\n",
       "9    4\n",
       "Name: Best_state, dtype: int64"
      ]
     },
     "execution_count": 89,
     "metadata": {},
     "output_type": "execute_result"
    }
   ],
   "source": [
    "df_top_10_1000.Best_state"
   ]
  },
  {
   "attachments": {},
   "cell_type": "markdown",
   "metadata": {
    "id": "NxRxwSXSy2Su"
   },
   "source": [
    "------------------------------------------------\n",
    "Make them Dataframes\n",
    "\n",
    "------------------------------------------------"
   ]
  },
  {
   "cell_type": "code",
   "execution_count": 90,
   "metadata": {
    "colab": {
     "base_uri": "https://localhost:8080/"
    },
    "executionInfo": {
     "elapsed": 8,
     "status": "ok",
     "timestamp": 1686125058893,
     "user": {
      "displayName": "akis nakis",
      "userId": "16895218271955728336"
     },
     "user_tz": -180
    },
    "id": "bwmBsO1oxZ0l",
    "outputId": "057f2bf6-426e-4e6c-8f96-5a7ec2fba84a"
   },
   "outputs": [
    {
     "data": {
      "text/html": [
       "<div>\n",
       "<style scoped>\n",
       "    .dataframe tbody tr th:only-of-type {\n",
       "        vertical-align: middle;\n",
       "    }\n",
       "\n",
       "    .dataframe tbody tr th {\n",
       "        vertical-align: top;\n",
       "    }\n",
       "\n",
       "    .dataframe thead th {\n",
       "        text-align: right;\n",
       "    }\n",
       "</style>\n",
       "<table border=\"1\" class=\"dataframe\">\n",
       "  <thead>\n",
       "    <tr style=\"text-align: right;\">\n",
       "      <th></th>\n",
       "      <th>ID</th>\n",
       "      <th>Mean_RMSD</th>\n",
       "      <th>Min_Values</th>\n",
       "      <th>Best_state</th>\n",
       "    </tr>\n",
       "  </thead>\n",
       "  <tbody>\n",
       "    <tr>\n",
       "      <th>0</th>\n",
       "      <td>2JYV_10</td>\n",
       "      <td>5.668796</td>\n",
       "      <td>5.376244</td>\n",
       "      <td>6</td>\n",
       "    </tr>\n",
       "    <tr>\n",
       "      <th>1</th>\n",
       "      <td>2JYV_10</td>\n",
       "      <td>5.845028</td>\n",
       "      <td>5.499420</td>\n",
       "      <td>4</td>\n",
       "    </tr>\n",
       "    <tr>\n",
       "      <th>2</th>\n",
       "      <td>2JYV_10</td>\n",
       "      <td>5.994509</td>\n",
       "      <td>5.746813</td>\n",
       "      <td>4</td>\n",
       "    </tr>\n",
       "    <tr>\n",
       "      <th>3</th>\n",
       "      <td>2JYV_10</td>\n",
       "      <td>6.622753</td>\n",
       "      <td>6.318227</td>\n",
       "      <td>9</td>\n",
       "    </tr>\n",
       "    <tr>\n",
       "      <th>4</th>\n",
       "      <td>2JYV_10</td>\n",
       "      <td>6.623281</td>\n",
       "      <td>6.377687</td>\n",
       "      <td>4</td>\n",
       "    </tr>\n",
       "  </tbody>\n",
       "</table>\n",
       "</div>"
      ],
      "text/plain": [
       "        ID  Mean_RMSD  Min_Values  Best_state\n",
       "0  2JYV_10   5.668796    5.376244           6\n",
       "1  2JYV_10   5.845028    5.499420           4\n",
       "2  2JYV_10   5.994509    5.746813           4\n",
       "3  2JYV_10   6.622753    6.318227           9\n",
       "4  2JYV_10   6.623281    6.377687           4"
      ]
     },
     "execution_count": 90,
     "metadata": {},
     "output_type": "execute_result"
    }
   ],
   "source": [
    "df_jyv_top_10s = concatenate_dataframes(df_top_10_10,df_top_10_100,df_top_10_1000)\n",
    "df_jyv_top_10s.head()"
   ]
  },
  {
   "cell_type": "code",
   "execution_count": 91,
   "metadata": {
    "colab": {
     "base_uri": "https://localhost:8080/"
    },
    "executionInfo": {
     "elapsed": 7,
     "status": "ok",
     "timestamp": 1686125058893,
     "user": {
      "displayName": "akis nakis",
      "userId": "16895218271955728336"
     },
     "user_tz": -180
    },
    "id": "ewVdT-MbzOVH",
    "outputId": "181f1d52-1f0f-4426-b2bc-e7a664c58a1d"
   },
   "outputs": [
    {
     "data": {
      "text/html": [
       "<div>\n",
       "<style scoped>\n",
       "    .dataframe tbody tr th:only-of-type {\n",
       "        vertical-align: middle;\n",
       "    }\n",
       "\n",
       "    .dataframe tbody tr th {\n",
       "        vertical-align: top;\n",
       "    }\n",
       "\n",
       "    .dataframe thead th {\n",
       "        text-align: right;\n",
       "    }\n",
       "</style>\n",
       "<table border=\"1\" class=\"dataframe\">\n",
       "  <thead>\n",
       "    <tr style=\"text-align: right;\">\n",
       "      <th></th>\n",
       "      <th>end_num</th>\n",
       "      <th>base_name</th>\n",
       "      <th>min_mean_rmsd</th>\n",
       "      <th>min_rmsd_structure</th>\n",
       "    </tr>\n",
       "  </thead>\n",
       "  <tbody>\n",
       "    <tr>\n",
       "      <th>0</th>\n",
       "      <td>10</td>\n",
       "      <td>2JYV</td>\n",
       "      <td>5.668796</td>\n",
       "      <td>(((&lt;Residue ALA het=  resseq=1 icode= &gt;, &lt;Resi...</td>\n",
       "    </tr>\n",
       "    <tr>\n",
       "      <th>0</th>\n",
       "      <td>100</td>\n",
       "      <td>2JYV</td>\n",
       "      <td>2.889797</td>\n",
       "      <td>(((&lt;Residue ALA het=  resseq=1 icode= &gt;, &lt;Resi...</td>\n",
       "    </tr>\n",
       "    <tr>\n",
       "      <th>0</th>\n",
       "      <td>1000</td>\n",
       "      <td>2JYV</td>\n",
       "      <td>3.067017</td>\n",
       "      <td>(((&lt;Residue ALA het=  resseq=1 icode= &gt;, &lt;Resi...</td>\n",
       "    </tr>\n",
       "  </tbody>\n",
       "</table>\n",
       "</div>"
      ],
      "text/plain": [
       "  end_num base_name min_mean_rmsd  \\\n",
       "0      10      2JYV      5.668796   \n",
       "0     100      2JYV      2.889797   \n",
       "0    1000      2JYV      3.067017   \n",
       "\n",
       "                                  min_rmsd_structure  \n",
       "0  (((<Residue ALA het=  resseq=1 icode= >, <Resi...  \n",
       "0  (((<Residue ALA het=  resseq=1 icode= >, <Resi...  \n",
       "0  (((<Residue ALA het=  resseq=1 icode= >, <Resi...  "
      ]
     },
     "execution_count": 91,
     "metadata": {},
     "output_type": "execute_result"
    }
   ],
   "source": [
    "df_jyv_best_rmsds = concatenate_dataframe_and_dict(mean_rmsd_info_10,mean_rmsd_info_100,mean_rmsd_info_1000)\n",
    "df_jyv_best_rmsds"
   ]
  },
  {
   "attachments": {},
   "cell_type": "markdown",
   "metadata": {
    "id": "G9UE6g4m2Ffq"
   },
   "source": [
    "# 2MPC #"
   ]
  },
  {
   "attachments": {},
   "cell_type": "markdown",
   "metadata": {
    "id": "atPatcaB2Zz9"
   },
   "source": [
    "------------------------------------------------\n",
    "For 10 MPC\n",
    "\n",
    "------------------------------------------------"
   ]
  },
  {
   "cell_type": "code",
   "execution_count": null,
   "metadata": {
    "colab": {
     "base_uri": "https://localhost:8080/"
    },
    "executionInfo": {
     "elapsed": 5549,
     "status": "ok",
     "timestamp": 1686125064436,
     "user": {
      "displayName": "akis nakis",
      "userId": "16895218271955728336"
     },
     "user_tz": -180
    },
    "id": "8_lLYa2O2MU1",
    "outputId": "b8a5bed5-8105-4fee-fc85-7a8b562686ac"
   },
   "outputs": [],
   "source": [
    "# Specify the path to your PDB file=s\n",
    "pdb_file_path = '../data/2mpc_pdbs/2mpc.pdb'\n",
    "\n",
    "base_path = \"../data/2mpc_pdbs/10/\"\n",
    "base_name = \"2MPC_10_\"\n",
    "start_num = 1\n",
    "end_num = 10\n",
    "\n",
    "p = PDBParser(QUIET=True)\n",
    "\n",
    "file_paths = generate_file_paths(base_path, base_name, start_num, end_num)\n",
    "\n",
    "structures = import_pdb_files(file_paths)\n",
    "\n",
    "models = import_final_models(pdb_file_path)\n",
    "\n",
    "# Call the align_and_calculate_mean_rmsd function\n",
    "mean_rmsd_info_10 , df_top_10_10 = align_and_calculate_mean_rmsd(structures, models,\"CA\",10)"
   ]
  },
  {
   "attachments": {},
   "cell_type": "markdown",
   "metadata": {
    "id": "jJYpWiUs2cNX"
   },
   "source": [
    "------------------------------------------------\n",
    "For 100 MPC\n",
    "\n",
    "------------------------------------------------"
   ]
  },
  {
   "cell_type": "code",
   "execution_count": null,
   "metadata": {
    "colab": {
     "base_uri": "https://localhost:8080/"
    },
    "executionInfo": {
     "elapsed": 45679,
     "status": "ok",
     "timestamp": 1686125110104,
     "user": {
      "displayName": "akis nakis",
      "userId": "16895218271955728336"
     },
     "user_tz": -180
    },
    "id": "pcX1xV3Z2ezG",
    "outputId": "3e67b136-7716-4ac7-a53b-7ec4ecbd43c6"
   },
   "outputs": [],
   "source": [
    "base_path = \"../data/2mpc_pdbs/100/\"\n",
    "base_name = \"2MPC_100_\"\n",
    "start_num = 1\n",
    "end_num = 100\n",
    "\n",
    "p = PDBParser(QUIET=True)\n",
    "\n",
    "file_paths = generate_file_paths(base_path, base_name, start_num, end_num)\n",
    "\n",
    "structures = import_pdb_files(file_paths)\n",
    "\n",
    "# models = import_final_models(pdb_file_path)\n",
    "\n",
    "# Call the align_and_calculate_mean_rmsd function\n",
    "mean_rmsd_info_100 , df_top_10_100 = align_and_calculate_mean_rmsd(structures, models,\"CA\",10)"
   ]
  },
  {
   "attachments": {},
   "cell_type": "markdown",
   "metadata": {
    "id": "seo1V6jF2q3N"
   },
   "source": [
    "------------------------------------------------\n",
    "For 1000 MPC\n",
    "\n",
    "------------------------------------------------"
   ]
  },
  {
   "cell_type": "code",
   "execution_count": null,
   "metadata": {
    "colab": {
     "base_uri": "https://localhost:8080/"
    },
    "executionInfo": {
     "elapsed": 428395,
     "status": "ok",
     "timestamp": 1686125538491,
     "user": {
      "displayName": "akis nakis",
      "userId": "16895218271955728336"
     },
     "user_tz": -180
    },
    "id": "zhTfqscW2sH_",
    "outputId": "db0e251b-c210-414a-b017-84d08877e7cf"
   },
   "outputs": [],
   "source": [
    "base_path = \"../data/2mpc_pdbs/1000/\"\n",
    "base_name = \"2MPC_1000_\"\n",
    "start_num = 1\n",
    "end_num = 1000\n",
    "\n",
    "p = PDBParser(QUIET=True)\n",
    "\n",
    "file_paths = generate_file_paths(base_path, base_name, start_num, end_num)\n",
    "\n",
    "structures = import_pdb_files(file_paths)\n",
    "\n",
    "# models = import_final_models(pdb_file_path)\n",
    "\n",
    "# Call the align_and_calculate_mean_rmsd function\n",
    "mean_rmsd_info_1000 , df_top_10_1000 = align_and_calculate_mean_rmsd(structures, models,\"CA\",10)"
   ]
  },
  {
   "attachments": {},
   "cell_type": "markdown",
   "metadata": {
    "id": "5Jbev1xA20tT"
   },
   "source": [
    "------------------------------------------------\n",
    "Make them Dataframes\n",
    "\n",
    "------------------------------------------------"
   ]
  },
  {
   "cell_type": "code",
   "execution_count": 95,
   "metadata": {
    "id": "ZqZkXZ0g20JQ"
   },
   "outputs": [],
   "source": [
    "df_mpc_top_10s = concatenate_dataframes(df_top_10_10,df_top_10_100,df_top_10_1000)\n",
    "df_mpc_best_rmsds = concatenate_dataframe_and_dict(mean_rmsd_info_10,mean_rmsd_info_100,mean_rmsd_info_1000)"
   ]
  },
  {
   "attachments": {},
   "cell_type": "markdown",
   "metadata": {
    "id": "qgefPXTk3K88"
   },
   "source": [
    "# 2MS8 #"
   ]
  },
  {
   "cell_type": "code",
   "execution_count": null,
   "metadata": {
    "colab": {
     "base_uri": "https://localhost:8080/"
    },
    "executionInfo": {
     "elapsed": 517784,
     "status": "ok",
     "timestamp": 1686126056273,
     "user": {
      "displayName": "akis nakis",
      "userId": "16895218271955728336"
     },
     "user_tz": -180
    },
    "id": "Yz7t-ieb39cQ",
    "outputId": "76d5bda0-004d-4346-9107-8ce048068e51"
   },
   "outputs": [],
   "source": [
    "# Specify the path to your PDB file=s\n",
    "pdb_file_path = '../data/2ms8_pdbs/2ms8.pdb'\n",
    "\n",
    "base_path = \"../data/2ms8_pdbs/10/\"\n",
    "base_name = \"2MS8_10_\"\n",
    "start_num = 1\n",
    "end_num = 10\n",
    "\n",
    "p = PDBParser(QUIET=True)\n",
    "\n",
    "file_paths = generate_file_paths(base_path, base_name, start_num, end_num)\n",
    "\n",
    "structures = import_pdb_files(file_paths)\n",
    "\n",
    "models = import_final_models(pdb_file_path)\n",
    "\n",
    "# Call the align_and_calculate_mean_rmsd function\n",
    "mean_rmsd_info_10 , df_top_10_10 = align_and_calculate_mean_rmsd(structures, models,\"CA\",10)\n",
    "\n",
    "\n",
    "base_path = \"../data/2ms8_pdbs/100/\"\n",
    "base_name = \"2MS8_100_\"\n",
    "start_num = 1\n",
    "end_num = 100\n",
    "\n",
    "# p = PDBParser(QUIET=True)\n",
    "\n",
    "file_paths = generate_file_paths(base_path, base_name, start_num, end_num)\n",
    "\n",
    "structures = import_pdb_files(file_paths)\n",
    "\n",
    "# models = import_final_models(pdb_file_path)\n",
    "\n",
    "# Call the align_and_calculate_mean_rmsd function\n",
    "mean_rmsd_info_100 , df_top_10_100 = align_and_calculate_mean_rmsd(structures, models,\"CA\",10)\n",
    "\n",
    "\n",
    "base_path = \"../data/2ms8_pdbs/1000/\"\n",
    "base_name = \"2MS8_1000_\"\n",
    "start_num = 1\n",
    "end_num = 1000\n",
    "\n",
    "# p = PDBParser(QUIET=True)\n",
    "\n",
    "file_paths = generate_file_paths(base_path, base_name, start_num, end_num)\n",
    "\n",
    "structures = import_pdb_files(file_paths)\n",
    "\n",
    "# models = import_final_models(pdb_file_path)\n",
    "\n",
    "# Call the align_and_calculate_mean_rmsd function\n",
    "mean_rmsd_info_1000 , df_top_10_1000 = align_and_calculate_mean_rmsd(structures, models,\"CA\",10)"
   ]
  },
  {
   "cell_type": "code",
   "execution_count": 97,
   "metadata": {
    "id": "uZl4g4mZ4KzC"
   },
   "outputs": [],
   "source": [
    "df_ms8_top_10s = concatenate_dataframes(df_top_10_10,df_top_10_100,df_top_10_1000)\n",
    "df_ms8_best_rmsds = concatenate_dataframe_and_dict(mean_rmsd_info_10,mean_rmsd_info_100,mean_rmsd_info_1000)"
   ]
  },
  {
   "cell_type": "code",
   "execution_count": 98,
   "metadata": {
    "id": "KLzFNwoA4pMt"
   },
   "outputs": [],
   "source": [
    "df_ms8_jyv_mpc_top_10 = concatenate_dataframes(df_jyv_top_10s, df_mpc_top_10s, df_ms8_top_10s)\n",
    "df_ms8_jyv_mpc_best_rmsds= concatenate_dataframes(df_jyv_best_rmsds,df_mpc_best_rmsds,df_ms8_best_rmsds)"
   ]
  },
  {
   "cell_type": "code",
   "execution_count": 99,
   "metadata": {
    "colab": {
     "base_uri": "https://localhost:8080/"
    },
    "executionInfo": {
     "elapsed": 23,
     "status": "ok",
     "timestamp": 1686126056274,
     "user": {
      "displayName": "akis nakis",
      "userId": "16895218271955728336"
     },
     "user_tz": -180
    },
    "id": "Sxvm-IeJ6N0d",
    "outputId": "6124248f-b396-4f3b-9b54-5319fd0ca53a"
   },
   "outputs": [
    {
     "data": {
      "text/html": [
       "<div>\n",
       "<style scoped>\n",
       "    .dataframe tbody tr th:only-of-type {\n",
       "        vertical-align: middle;\n",
       "    }\n",
       "\n",
       "    .dataframe tbody tr th {\n",
       "        vertical-align: top;\n",
       "    }\n",
       "\n",
       "    .dataframe thead th {\n",
       "        text-align: right;\n",
       "    }\n",
       "</style>\n",
       "<table border=\"1\" class=\"dataframe\">\n",
       "  <thead>\n",
       "    <tr style=\"text-align: right;\">\n",
       "      <th></th>\n",
       "      <th>end_num</th>\n",
       "      <th>base_name</th>\n",
       "      <th>min_mean_rmsd</th>\n",
       "      <th>min_rmsd_structure</th>\n",
       "    </tr>\n",
       "  </thead>\n",
       "  <tbody>\n",
       "    <tr>\n",
       "      <th>0</th>\n",
       "      <td>10</td>\n",
       "      <td>2JYV</td>\n",
       "      <td>5.668796</td>\n",
       "      <td>(((&lt;Residue ALA het=  resseq=1 icode= &gt;, &lt;Resi...</td>\n",
       "    </tr>\n",
       "    <tr>\n",
       "      <th>0</th>\n",
       "      <td>100</td>\n",
       "      <td>2JYV</td>\n",
       "      <td>2.889797</td>\n",
       "      <td>(((&lt;Residue ALA het=  resseq=1 icode= &gt;, &lt;Resi...</td>\n",
       "    </tr>\n",
       "    <tr>\n",
       "      <th>0</th>\n",
       "      <td>1000</td>\n",
       "      <td>2JYV</td>\n",
       "      <td>3.067017</td>\n",
       "      <td>(((&lt;Residue ALA het=  resseq=1 icode= &gt;, &lt;Resi...</td>\n",
       "    </tr>\n",
       "    <tr>\n",
       "      <th>0</th>\n",
       "      <td>10</td>\n",
       "      <td>2MPC</td>\n",
       "      <td>4.744574</td>\n",
       "      <td>(((&lt;Residue THR het=  resseq=1 icode= &gt;, &lt;Resi...</td>\n",
       "    </tr>\n",
       "    <tr>\n",
       "      <th>0</th>\n",
       "      <td>100</td>\n",
       "      <td>2MPC</td>\n",
       "      <td>4.185632</td>\n",
       "      <td>(((&lt;Residue THR het=  resseq=1 icode= &gt;, &lt;Resi...</td>\n",
       "    </tr>\n",
       "    <tr>\n",
       "      <th>0</th>\n",
       "      <td>1000</td>\n",
       "      <td>2MPC</td>\n",
       "      <td>2.606431</td>\n",
       "      <td>(((&lt;Residue THR het=  resseq=1 icode= &gt;, &lt;Resi...</td>\n",
       "    </tr>\n",
       "    <tr>\n",
       "      <th>0</th>\n",
       "      <td>10</td>\n",
       "      <td>2MS8</td>\n",
       "      <td>7.490367</td>\n",
       "      <td>(((&lt;Residue GLY het=  resseq=1 icode= &gt;, &lt;Resi...</td>\n",
       "    </tr>\n",
       "    <tr>\n",
       "      <th>0</th>\n",
       "      <td>100</td>\n",
       "      <td>2MS8</td>\n",
       "      <td>4.399827</td>\n",
       "      <td>(((&lt;Residue GLY het=  resseq=1 icode= &gt;, &lt;Resi...</td>\n",
       "    </tr>\n",
       "    <tr>\n",
       "      <th>0</th>\n",
       "      <td>1000</td>\n",
       "      <td>2MS8</td>\n",
       "      <td>3.774262</td>\n",
       "      <td>(((&lt;Residue GLY het=  resseq=1 icode= &gt;, &lt;Resi...</td>\n",
       "    </tr>\n",
       "  </tbody>\n",
       "</table>\n",
       "</div>"
      ],
      "text/plain": [
       "  end_num base_name min_mean_rmsd  \\\n",
       "0      10      2JYV      5.668796   \n",
       "0     100      2JYV      2.889797   \n",
       "0    1000      2JYV      3.067017   \n",
       "0      10      2MPC      4.744574   \n",
       "0     100      2MPC      4.185632   \n",
       "0    1000      2MPC      2.606431   \n",
       "0      10      2MS8      7.490367   \n",
       "0     100      2MS8      4.399827   \n",
       "0    1000      2MS8      3.774262   \n",
       "\n",
       "                                  min_rmsd_structure  \n",
       "0  (((<Residue ALA het=  resseq=1 icode= >, <Resi...  \n",
       "0  (((<Residue ALA het=  resseq=1 icode= >, <Resi...  \n",
       "0  (((<Residue ALA het=  resseq=1 icode= >, <Resi...  \n",
       "0  (((<Residue THR het=  resseq=1 icode= >, <Resi...  \n",
       "0  (((<Residue THR het=  resseq=1 icode= >, <Resi...  \n",
       "0  (((<Residue THR het=  resseq=1 icode= >, <Resi...  \n",
       "0  (((<Residue GLY het=  resseq=1 icode= >, <Resi...  \n",
       "0  (((<Residue GLY het=  resseq=1 icode= >, <Resi...  \n",
       "0  (((<Residue GLY het=  resseq=1 icode= >, <Resi...  "
      ]
     },
     "execution_count": 99,
     "metadata": {},
     "output_type": "execute_result"
    }
   ],
   "source": [
    "df_ms8_jyv_mpc_best_rmsds"
   ]
  },
  {
   "attachments": {},
   "cell_type": "markdown",
   "metadata": {
    "id": "AtGJ3F4w7Zhz"
   },
   "source": [
    "# 6MWM #"
   ]
  },
  {
   "cell_type": "code",
   "execution_count": null,
   "metadata": {
    "colab": {
     "base_uri": "https://localhost:8080/"
    },
    "executionInfo": {
     "elapsed": 510934,
     "status": "ok",
     "timestamp": 1686126567200,
     "user": {
      "displayName": "akis nakis",
      "userId": "16895218271955728336"
     },
     "user_tz": -180
    },
    "id": "M0aGjV3k7fEZ",
    "outputId": "ffcd9e29-b9b9-4683-f09c-96e4b4e5e798"
   },
   "outputs": [],
   "source": [
    "# Specify the path to your PDB file=s\n",
    "pdb_file_path = '../data/6mwm_pdbs/6mwm.pdb'\n",
    "\n",
    "base_path = \"../data/6mwm_pdbs/10/\"\n",
    "base_name = \"6MWM_10_\"\n",
    "start_num = 1\n",
    "end_num = 10\n",
    "\n",
    "p = PDBParser(QUIET=True)\n",
    "\n",
    "file_paths = generate_file_paths(base_path, base_name, start_num, end_num)\n",
    "\n",
    "structures = import_pdb_files(file_paths)\n",
    "\n",
    "models = import_final_models(pdb_file_path)\n",
    "\n",
    "# Call the align_and_calculate_mean_rmsd function\n",
    "mean_rmsd_info_10 , df_top_10_10 = align_and_calculate_mean_rmsd(structures, models,\"CA\",10)\n",
    "\n",
    "\n",
    "base_path = \"../data/6mwm_pdbs/100/\"\n",
    "base_name = \"6MWM_100_\"\n",
    "start_num = 1\n",
    "end_num = 100\n",
    "\n",
    "# p = PDBParser(QUIET=True)\n",
    "\n",
    "file_paths = generate_file_paths(base_path, base_name, start_num, end_num)\n",
    "\n",
    "structures = import_pdb_files(file_paths)\n",
    "\n",
    "# models = import_final_models(pdb_file_path)\n",
    "\n",
    "# Call the align_and_calculate_mean_rmsd function\n",
    "mean_rmsd_info_100 , df_top_10_100 = align_and_calculate_mean_rmsd(structures, models,\"CA\",10)\n",
    "\n",
    "\n",
    "base_path = \"../data/6mwm_pdbs/1000/\"\n",
    "base_name = \"6MWM_1000_\"\n",
    "start_num = 1\n",
    "end_num = 1000\n",
    "\n",
    "# p = PDBParser(QUIET=True)\n",
    "\n",
    "file_paths = generate_file_paths(base_path, base_name, start_num, end_num)\n",
    "\n",
    "structures = import_pdb_files(file_paths)\n",
    "\n",
    "# models = import_final_models(pdb_file_path)\n",
    "\n",
    "# Call the align_and_calculate_mean_rmsd function\n",
    "mean_rmsd_info_1000 , df_top_10_1000 = align_and_calculate_mean_rmsd(structures, models,\"CA\",10)"
   ]
  },
  {
   "cell_type": "code",
   "execution_count": 101,
   "metadata": {
    "id": "4DHqLudL9LWE"
   },
   "outputs": [],
   "source": [
    "df_mwm_top_10s = concatenate_dataframes(df_top_10_10,df_top_10_100,df_top_10_1000)\n",
    "df_mwm_best_rmsds = concatenate_dataframe_and_dict(mean_rmsd_info_10,mean_rmsd_info_100,mean_rmsd_info_1000)"
   ]
  },
  {
   "attachments": {},
   "cell_type": "markdown",
   "metadata": {
    "id": "fObIIP0szvOT"
   },
   "source": [
    "# 2MOD #"
   ]
  },
  {
   "cell_type": "code",
   "execution_count": null,
   "metadata": {
    "id": "oirlIbuO_m6k"
   },
   "outputs": [],
   "source": [
    "def align(native, model, atom_types=[\"CA\"]) -> SVDSuperimposer:\n",
    "    \"\"\"\n",
    "    Aligns a model structure onto a native structure\n",
    "    Using the atom types listed in `atom_types`.\n",
    "    \"\"\"\n",
    "    # 2M0D had an extra name which three_to_one could not find. This is why we re-root it\n",
    "    native_seq = \"\".join([three_to_one(r.resname) for r in native.get_residues() if r.resname != \"ZN\"])\n",
    "    model_seq = \"\".join([three_to_one(r.resname) for r in model.get_residues() if r.resname != \"ZN\"])\n",
    "\n",
    "    assert len(model_seq) == len(native_seq), \"The sequences should be of identical length.\"\n",
    "\n",
    "    native_coords = [a.coord for a in native[0].get_atoms() if a.name in atom_types and a.parent.resname != \"ZN\"]\n",
    "    model_coords = [a.coord for a in model[0].get_atoms() if a.name in atom_types and a.parent.resname != \"ZN\"]\n",
    "\n",
    "    si = SVDSuperimposer()\n",
    "    si.set(np.array(native_coords), np.array(model_coords))\n",
    "    si.run()  # Run the SVD alignment\n",
    "\n",
    "    return si"
   ]
  },
  {
   "cell_type": "code",
   "execution_count": null,
   "metadata": {
    "colab": {
     "base_uri": "https://localhost:8080/"
    },
    "executionInfo": {
     "elapsed": 447742,
     "status": "ok",
     "timestamp": 1686127014922,
     "user": {
      "displayName": "akis nakis",
      "userId": "16895218271955728336"
     },
     "user_tz": -180
    },
    "id": "fTqxZo18zxPg",
    "outputId": "0e5d5fad-c621-40e4-8620-6cd8c693714a"
   },
   "outputs": [],
   "source": [
    "# Specify the path to your PDB file=s\n",
    "pdb_file_path = '../data/2m0d_pdbs/2m0d.pdb'\n",
    "\n",
    "base_path = \"../data/2m0d_pdbs/10/\"\n",
    "base_name = \"2M0D_10_\"\n",
    "start_num = 1\n",
    "end_num = 10\n",
    "\n",
    "p = PDBParser(QUIET=True)\n",
    "\n",
    "file_paths = generate_file_paths(base_path, base_name, start_num, end_num)\n",
    "\n",
    "structures = import_pdb_files(file_paths)\n",
    "\n",
    "models = import_final_models(pdb_file_path)\n",
    "\n",
    "# Call the align_and_calculate_mean_rmsd function\n",
    "mean_rmsd_info_10 , df_top_10_10 = align_and_calculate_mean_rmsd(structures, models,\"CA\",10)\n",
    "\n",
    "\n",
    "base_path = \"../data/2m0d_pdbs/100/\"\n",
    "base_name = \"2M0D_100_\"\n",
    "start_num = 1\n",
    "end_num = 100\n",
    "\n",
    "# p = PDBParser(QUIET=True)\n",
    "\n",
    "file_paths = generate_file_paths(base_path, base_name, start_num, end_num)\n",
    "\n",
    "structures = import_pdb_files(file_paths)\n",
    "\n",
    "# models = import_final_models(pdb_file_path)\n",
    "\n",
    "# Call the align_and_calculate_mean_rmsd function\n",
    "mean_rmsd_info_100 , df_top_10_100 = align_and_calculate_mean_rmsd(structures, models,\"CA\",10)\n",
    "\n",
    "\n",
    "base_path = \"../data/2m0d_pdbs/1000/\"\n",
    "base_name = \"2M0D_1000_\"\n",
    "start_num = 1\n",
    "end_num = 1000\n",
    "\n",
    "# p = PDBParser(QUIET=True)\n",
    "\n",
    "file_paths = generate_file_paths(base_path, base_name, start_num, end_num)\n",
    "\n",
    "structures = import_pdb_files(file_paths)\n",
    "\n",
    "# models = import_final_models(pdb_file_path)\n",
    "\n",
    "# Call the align_and_calculate_mean_rmsd function\n",
    "mean_rmsd_info_1000 , df_top_10_1000 = align_and_calculate_mean_rmsd(structures, models,\"CA\",10)"
   ]
  },
  {
   "cell_type": "code",
   "execution_count": 104,
   "metadata": {
    "id": "32o4o_k3EVH5"
   },
   "outputs": [],
   "source": [
    "df_m0d_top_10s = concatenate_dataframes(df_top_10_10,df_top_10_100,df_top_10_1000)\n",
    "df_m0d_best_rmsds = concatenate_dataframe_and_dict(mean_rmsd_info_10,mean_rmsd_info_100,mean_rmsd_info_1000)"
   ]
  },
  {
   "attachments": {},
   "cell_type": "markdown",
   "metadata": {
    "id": "P_rTy8fNHoyI"
   },
   "source": [
    "# Final Dataframe #"
   ]
  },
  {
   "cell_type": "code",
   "execution_count": 105,
   "metadata": {
    "id": "WViq6ggMGDoI"
   },
   "outputs": [],
   "source": [
    "df_all_top_10 = concatenate_dataframes(df_ms8_jyv_mpc_top_10, df_m0d_top_10s, df_mwm_top_10s)\n",
    "df_all_best_rmsds = concatenate_dataframes(df_ms8_jyv_mpc_best_rmsds,df_m0d_best_rmsds,df_mwm_best_rmsds)"
   ]
  },
  {
   "cell_type": "code",
   "execution_count": 106,
   "metadata": {
    "colab": {
     "base_uri": "https://localhost:8080/",
     "height": 424
    },
    "executionInfo": {
     "elapsed": 24,
     "status": "ok",
     "timestamp": 1686127014923,
     "user": {
      "displayName": "akis nakis",
      "userId": "16895218271955728336"
     },
     "user_tz": -180
    },
    "id": "gnOgSoYmH7eO",
    "outputId": "146d4358-dad9-4d11-83d0-8b857fbf2894"
   },
   "outputs": [
    {
     "data": {
      "text/html": [
       "<div>\n",
       "<style scoped>\n",
       "    .dataframe tbody tr th:only-of-type {\n",
       "        vertical-align: middle;\n",
       "    }\n",
       "\n",
       "    .dataframe tbody tr th {\n",
       "        vertical-align: top;\n",
       "    }\n",
       "\n",
       "    .dataframe thead th {\n",
       "        text-align: right;\n",
       "    }\n",
       "</style>\n",
       "<table border=\"1\" class=\"dataframe\">\n",
       "  <thead>\n",
       "    <tr style=\"text-align: right;\">\n",
       "      <th></th>\n",
       "      <th>ID</th>\n",
       "      <th>Mean_RMSD</th>\n",
       "      <th>Min_Values</th>\n",
       "      <th>Best_state</th>\n",
       "    </tr>\n",
       "  </thead>\n",
       "  <tbody>\n",
       "    <tr>\n",
       "      <th>0</th>\n",
       "      <td>2JYV_10</td>\n",
       "      <td>5.668796</td>\n",
       "      <td>5.376244</td>\n",
       "      <td>6</td>\n",
       "    </tr>\n",
       "    <tr>\n",
       "      <th>1</th>\n",
       "      <td>2JYV_10</td>\n",
       "      <td>5.845028</td>\n",
       "      <td>5.499420</td>\n",
       "      <td>4</td>\n",
       "    </tr>\n",
       "    <tr>\n",
       "      <th>2</th>\n",
       "      <td>2JYV_10</td>\n",
       "      <td>5.994509</td>\n",
       "      <td>5.746813</td>\n",
       "      <td>4</td>\n",
       "    </tr>\n",
       "    <tr>\n",
       "      <th>3</th>\n",
       "      <td>2JYV_10</td>\n",
       "      <td>6.622753</td>\n",
       "      <td>6.318227</td>\n",
       "      <td>9</td>\n",
       "    </tr>\n",
       "    <tr>\n",
       "      <th>4</th>\n",
       "      <td>2JYV_10</td>\n",
       "      <td>6.623281</td>\n",
       "      <td>6.377687</td>\n",
       "      <td>4</td>\n",
       "    </tr>\n",
       "    <tr>\n",
       "      <th>...</th>\n",
       "      <td>...</td>\n",
       "      <td>...</td>\n",
       "      <td>...</td>\n",
       "      <td>...</td>\n",
       "    </tr>\n",
       "    <tr>\n",
       "      <th>5</th>\n",
       "      <td>6MWM_1000</td>\n",
       "      <td>6.264626</td>\n",
       "      <td>5.819298</td>\n",
       "      <td>7</td>\n",
       "    </tr>\n",
       "    <tr>\n",
       "      <th>6</th>\n",
       "      <td>6MWM_1000</td>\n",
       "      <td>6.669287</td>\n",
       "      <td>6.417001</td>\n",
       "      <td>16</td>\n",
       "    </tr>\n",
       "    <tr>\n",
       "      <th>7</th>\n",
       "      <td>6MWM_1000</td>\n",
       "      <td>6.753101</td>\n",
       "      <td>6.477314</td>\n",
       "      <td>15</td>\n",
       "    </tr>\n",
       "    <tr>\n",
       "      <th>8</th>\n",
       "      <td>6MWM_1000</td>\n",
       "      <td>6.819984</td>\n",
       "      <td>6.616920</td>\n",
       "      <td>1</td>\n",
       "    </tr>\n",
       "    <tr>\n",
       "      <th>9</th>\n",
       "      <td>6MWM_1000</td>\n",
       "      <td>7.065896</td>\n",
       "      <td>6.660153</td>\n",
       "      <td>7</td>\n",
       "    </tr>\n",
       "  </tbody>\n",
       "</table>\n",
       "<p>150 rows × 4 columns</p>\n",
       "</div>"
      ],
      "text/plain": [
       "           ID  Mean_RMSD  Min_Values  Best_state\n",
       "0     2JYV_10   5.668796    5.376244           6\n",
       "1     2JYV_10   5.845028    5.499420           4\n",
       "2     2JYV_10   5.994509    5.746813           4\n",
       "3     2JYV_10   6.622753    6.318227           9\n",
       "4     2JYV_10   6.623281    6.377687           4\n",
       "..        ...        ...         ...         ...\n",
       "5   6MWM_1000   6.264626    5.819298           7\n",
       "6   6MWM_1000   6.669287    6.417001          16\n",
       "7   6MWM_1000   6.753101    6.477314          15\n",
       "8   6MWM_1000   6.819984    6.616920           1\n",
       "9   6MWM_1000   7.065896    6.660153           7\n",
       "\n",
       "[150 rows x 4 columns]"
      ]
     },
     "execution_count": 106,
     "metadata": {},
     "output_type": "execute_result"
    }
   ],
   "source": [
    "df_all_top_10"
   ]
  },
  {
   "attachments": {},
   "cell_type": "markdown",
   "metadata": {
    "id": "KOf9LMi9P6y2"
   },
   "source": [
    "## Barplot for best RMSD's ##"
   ]
  },
  {
   "cell_type": "code",
   "execution_count": 107,
   "metadata": {
    "colab": {
     "base_uri": "https://localhost:8080/",
     "height": 520
    },
    "executionInfo": {
     "elapsed": 13,
     "status": "ok",
     "timestamp": 1686127014924,
     "user": {
      "displayName": "akis nakis",
      "userId": "16895218271955728336"
     },
     "user_tz": -180
    },
    "id": "rtex7IM_H77n",
    "outputId": "11f600e5-12e5-438e-b613-05b96d488d08"
   },
   "outputs": [
    {
     "data": {
      "text/html": [
       "<div>\n",
       "<style scoped>\n",
       "    .dataframe tbody tr th:only-of-type {\n",
       "        vertical-align: middle;\n",
       "    }\n",
       "\n",
       "    .dataframe tbody tr th {\n",
       "        vertical-align: top;\n",
       "    }\n",
       "\n",
       "    .dataframe thead th {\n",
       "        text-align: right;\n",
       "    }\n",
       "</style>\n",
       "<table border=\"1\" class=\"dataframe\">\n",
       "  <thead>\n",
       "    <tr style=\"text-align: right;\">\n",
       "      <th></th>\n",
       "      <th>end_num</th>\n",
       "      <th>base_name</th>\n",
       "      <th>min_mean_rmsd</th>\n",
       "      <th>min_rmsd_structure</th>\n",
       "    </tr>\n",
       "  </thead>\n",
       "  <tbody>\n",
       "    <tr>\n",
       "      <th>0</th>\n",
       "      <td>10</td>\n",
       "      <td>2JYV</td>\n",
       "      <td>5.668796</td>\n",
       "      <td>(((&lt;Residue ALA het=  resseq=1 icode= &gt;, &lt;Resi...</td>\n",
       "    </tr>\n",
       "    <tr>\n",
       "      <th>0</th>\n",
       "      <td>100</td>\n",
       "      <td>2JYV</td>\n",
       "      <td>2.889797</td>\n",
       "      <td>(((&lt;Residue ALA het=  resseq=1 icode= &gt;, &lt;Resi...</td>\n",
       "    </tr>\n",
       "    <tr>\n",
       "      <th>0</th>\n",
       "      <td>1000</td>\n",
       "      <td>2JYV</td>\n",
       "      <td>3.067017</td>\n",
       "      <td>(((&lt;Residue ALA het=  resseq=1 icode= &gt;, &lt;Resi...</td>\n",
       "    </tr>\n",
       "    <tr>\n",
       "      <th>0</th>\n",
       "      <td>10</td>\n",
       "      <td>2MPC</td>\n",
       "      <td>4.744574</td>\n",
       "      <td>(((&lt;Residue THR het=  resseq=1 icode= &gt;, &lt;Resi...</td>\n",
       "    </tr>\n",
       "    <tr>\n",
       "      <th>0</th>\n",
       "      <td>100</td>\n",
       "      <td>2MPC</td>\n",
       "      <td>4.185632</td>\n",
       "      <td>(((&lt;Residue THR het=  resseq=1 icode= &gt;, &lt;Resi...</td>\n",
       "    </tr>\n",
       "    <tr>\n",
       "      <th>0</th>\n",
       "      <td>1000</td>\n",
       "      <td>2MPC</td>\n",
       "      <td>2.606431</td>\n",
       "      <td>(((&lt;Residue THR het=  resseq=1 icode= &gt;, &lt;Resi...</td>\n",
       "    </tr>\n",
       "    <tr>\n",
       "      <th>0</th>\n",
       "      <td>10</td>\n",
       "      <td>2MS8</td>\n",
       "      <td>7.490367</td>\n",
       "      <td>(((&lt;Residue GLY het=  resseq=1 icode= &gt;, &lt;Resi...</td>\n",
       "    </tr>\n",
       "    <tr>\n",
       "      <th>0</th>\n",
       "      <td>100</td>\n",
       "      <td>2MS8</td>\n",
       "      <td>4.399827</td>\n",
       "      <td>(((&lt;Residue GLY het=  resseq=1 icode= &gt;, &lt;Resi...</td>\n",
       "    </tr>\n",
       "    <tr>\n",
       "      <th>0</th>\n",
       "      <td>1000</td>\n",
       "      <td>2MS8</td>\n",
       "      <td>3.774262</td>\n",
       "      <td>(((&lt;Residue GLY het=  resseq=1 icode= &gt;, &lt;Resi...</td>\n",
       "    </tr>\n",
       "    <tr>\n",
       "      <th>0</th>\n",
       "      <td>10</td>\n",
       "      <td>2M0D</td>\n",
       "      <td>5.0174</td>\n",
       "      <td>(((&lt;Residue MET het=  resseq=1 icode= &gt;, &lt;Resi...</td>\n",
       "    </tr>\n",
       "    <tr>\n",
       "      <th>0</th>\n",
       "      <td>100</td>\n",
       "      <td>2M0D</td>\n",
       "      <td>3.876717</td>\n",
       "      <td>(((&lt;Residue MET het=  resseq=1 icode= &gt;, &lt;Resi...</td>\n",
       "    </tr>\n",
       "    <tr>\n",
       "      <th>0</th>\n",
       "      <td>1000</td>\n",
       "      <td>2M0D</td>\n",
       "      <td>2.077025</td>\n",
       "      <td>(((&lt;Residue MET het=  resseq=1 icode= &gt;, &lt;Resi...</td>\n",
       "    </tr>\n",
       "    <tr>\n",
       "      <th>0</th>\n",
       "      <td>10</td>\n",
       "      <td>6MWM</td>\n",
       "      <td>11.153059</td>\n",
       "      <td>(((&lt;Residue SER het=  resseq=1 icode= &gt;, &lt;Resi...</td>\n",
       "    </tr>\n",
       "    <tr>\n",
       "      <th>0</th>\n",
       "      <td>100</td>\n",
       "      <td>6MWM</td>\n",
       "      <td>7.279614</td>\n",
       "      <td>(((&lt;Residue SER het=  resseq=1 icode= &gt;, &lt;Resi...</td>\n",
       "    </tr>\n",
       "    <tr>\n",
       "      <th>0</th>\n",
       "      <td>1000</td>\n",
       "      <td>6MWM</td>\n",
       "      <td>5.738078</td>\n",
       "      <td>(((&lt;Residue SER het=  resseq=1 icode= &gt;, &lt;Resi...</td>\n",
       "    </tr>\n",
       "  </tbody>\n",
       "</table>\n",
       "</div>"
      ],
      "text/plain": [
       "  end_num base_name min_mean_rmsd  \\\n",
       "0      10      2JYV      5.668796   \n",
       "0     100      2JYV      2.889797   \n",
       "0    1000      2JYV      3.067017   \n",
       "0      10      2MPC      4.744574   \n",
       "0     100      2MPC      4.185632   \n",
       "0    1000      2MPC      2.606431   \n",
       "0      10      2MS8      7.490367   \n",
       "0     100      2MS8      4.399827   \n",
       "0    1000      2MS8      3.774262   \n",
       "0      10      2M0D        5.0174   \n",
       "0     100      2M0D      3.876717   \n",
       "0    1000      2M0D      2.077025   \n",
       "0      10      6MWM     11.153059   \n",
       "0     100      6MWM      7.279614   \n",
       "0    1000      6MWM      5.738078   \n",
       "\n",
       "                                  min_rmsd_structure  \n",
       "0  (((<Residue ALA het=  resseq=1 icode= >, <Resi...  \n",
       "0  (((<Residue ALA het=  resseq=1 icode= >, <Resi...  \n",
       "0  (((<Residue ALA het=  resseq=1 icode= >, <Resi...  \n",
       "0  (((<Residue THR het=  resseq=1 icode= >, <Resi...  \n",
       "0  (((<Residue THR het=  resseq=1 icode= >, <Resi...  \n",
       "0  (((<Residue THR het=  resseq=1 icode= >, <Resi...  \n",
       "0  (((<Residue GLY het=  resseq=1 icode= >, <Resi...  \n",
       "0  (((<Residue GLY het=  resseq=1 icode= >, <Resi...  \n",
       "0  (((<Residue GLY het=  resseq=1 icode= >, <Resi...  \n",
       "0  (((<Residue MET het=  resseq=1 icode= >, <Resi...  \n",
       "0  (((<Residue MET het=  resseq=1 icode= >, <Resi...  \n",
       "0  (((<Residue MET het=  resseq=1 icode= >, <Resi...  \n",
       "0  (((<Residue SER het=  resseq=1 icode= >, <Resi...  \n",
       "0  (((<Residue SER het=  resseq=1 icode= >, <Resi...  \n",
       "0  (((<Residue SER het=  resseq=1 icode= >, <Resi...  "
      ]
     },
     "execution_count": 107,
     "metadata": {},
     "output_type": "execute_result"
    }
   ],
   "source": [
    "df_all_best_rmsds"
   ]
  },
  {
   "cell_type": "code",
   "execution_count": 108,
   "metadata": {
    "id": "AvXhDsdPOOPS"
   },
   "outputs": [],
   "source": [
    "df_all_best_rmsds['min_mean_rmsd'] = df_all_best_rmsds['min_mean_rmsd'].astype(float)\n",
    "df_all_best_rmsds['end_num'] = df_all_best_rmsds['end_num'].astype(str)\n",
    "\n",
    "# Define the color palette\n",
    "color_palette = sns.color_palette(\"Set1\")"
   ]
  },
  {
   "cell_type": "code",
   "execution_count": 109,
   "metadata": {
    "id": "9fzDRfJGJtuo"
   },
   "outputs": [],
   "source": [
    "def plot_barplot(df_all_best_rmsds, base_name):\n",
    "    filtered_df = df_all_best_rmsds[df_all_best_rmsds['base_name'] == base_name]\n",
    "    # Create the bar plot using the color palette\n",
    "    plt.bar(filtered_df.end_num, filtered_df.min_mean_rmsd, color=color_palette,width = 0.4)\n",
    "\n",
    "    # Set the labels for x and y axes\n",
    "    plt.xlabel('End Num')\n",
    "    plt.ylabel('Min Mean RMSD')\n",
    "\n",
    "    # Set the title\n",
    "    plt.title(f'Bar Plot for Base Name: {base_name}')\n",
    "\n",
    "    # Show the plot\n",
    "    plt.show()\n"
   ]
  },
  {
   "cell_type": "code",
   "execution_count": 110,
   "metadata": {
    "colab": {
     "base_uri": "https://localhost:8080/",
     "height": 1000
    },
    "executionInfo": {
     "elapsed": 1790,
     "status": "ok",
     "timestamp": 1686127016703,
     "user": {
      "displayName": "akis nakis",
      "userId": "16895218271955728336"
     },
     "user_tz": -180
    },
    "id": "eumPAXB7M5Lw",
    "outputId": "36f984fc-e49a-452c-99b2-eb136b584ee6"
   },
   "outputs": [
    {
     "data": {
      "image/png": "[encoded data removed]",
      "text/plain": [
       "<Figure size 640x480 with 1 Axes>"
      ]
     },
     "metadata": {},
     "output_type": "display_data"
    },
    {
     "data": {
      "image/png": "[encoded data removed]",
      "text/plain": [
       "<Figure size 640x480 with 1 Axes>"
      ]
     },
     "metadata": {},
     "output_type": "display_data"
    },
    {
     "data": {
      "image/png": "[encoded data removed]",
      "text/plain": [
       "<Figure size 640x480 with 1 Axes>"
      ]
     },
     "metadata": {},
     "output_type": "display_data"
    },
    {
     "data": {
      "image/png": "[encoded data removed]",
      "text/plain": [
       "<Figure size 640x480 with 1 Axes>"
      ]
     },
     "metadata": {},
     "output_type": "display_data"
    },
    {
     "data": {
      "image/png": "[encoded data removed]",
      "text/plain": [
       "<Figure size 640x480 with 1 Axes>"
      ]
     },
     "metadata": {},
     "output_type": "display_data"
    }
   ],
   "source": [
    "for protein in df_all_best_rmsds.base_name.unique():\n",
    "    plot_barplot(df_all_best_rmsds, protein)"
   ]
  },
  {
   "attachments": {},
   "cell_type": "markdown",
   "metadata": {
    "id": "cr3jUe5NQCcP"
   },
   "source": [
    "## Plot for top 10 ##"
   ]
  },
  {
   "cell_type": "code",
   "execution_count": 111,
   "metadata": {
    "id": "Ek_JpLFIR1fT"
   },
   "outputs": [],
   "source": [
    "color_palette = sns.color_palette(\"Set2\")"
   ]
  },
  {
   "cell_type": "code",
   "execution_count": 112,
   "metadata": {
    "id": "DfyMrS1gARlB"
   },
   "outputs": [],
   "source": [
    "def barplot_top_10(df, names):\n",
    "    filtered_df = df[df['ID'].isin(names)]  # Filter the DataFrame for the specified base names\n",
    "    grouped_df = filtered_df.groupby('ID')['Mean_RMSD'].mean().reset_index()  # Calculate the mean of Mean_RMSD for each base name\n",
    "\n",
    "    base_names = grouped_df['ID'].values.astype(str)\n",
    "    min_mean_rmsd = grouped_df['Mean_RMSD'].values.astype(float)\n",
    "\n",
    "    plt.bar(base_names, min_mean_rmsd, color=color_palette, width=0.4)\n",
    "\n",
    "    plt.xlabel('Base Names')\n",
    "    plt.ylabel('Mean top 10 RMSD')\n",
    "\n",
    "    plt.title('Mean of top 10 RMSD for Base Names'+str(names[0][:4]))\n",
    "    plt.show()\n"
   ]
  },
  {
   "cell_type": "code",
   "execution_count": 113,
   "metadata": {
    "colab": {
     "base_uri": "https://localhost:8080/",
     "height": 1000
    },
    "executionInfo": {
     "elapsed": 686,
     "status": "ok",
     "timestamp": 1686127284114,
     "user": {
      "displayName": "akis nakis",
      "userId": "16895218271955728336"
     },
     "user_tz": -180
    },
    "id": "U6K4vhqSR6jh",
    "outputId": "76bfcdf9-4470-421a-8c24-00071ec2f8b6"
   },
   "outputs": [
    {
     "data": {
      "image/png": "[encoded data removed]",
      "text/plain": [
       "<Figure size 640x480 with 1 Axes>"
      ]
     },
     "metadata": {},
     "output_type": "display_data"
    },
    {
     "data": {
      "image/png": "[encoded data removed]",
      "text/plain": [
       "<Figure size 640x480 with 1 Axes>"
      ]
     },
     "metadata": {},
     "output_type": "display_data"
    },
    {
     "data": {
      "image/png": "[encoded data removed]",
      "text/plain": [
       "<Figure size 640x480 with 1 Axes>"
      ]
     },
     "metadata": {},
     "output_type": "display_data"
    },
    {
     "data": {
      "image/png": "[encoded data removed]",
      "text/plain": [
       "<Figure size 640x480 with 1 Axes>"
      ]
     },
     "metadata": {},
     "output_type": "display_data"
    },
    {
     "data": {
      "image/png": "[encoded data removed]",
      "text/plain": [
       "<Figure size 640x480 with 1 Axes>"
      ]
     },
     "metadata": {},
     "output_type": "display_data"
    }
   ],
   "source": [
    "names_list = df_all_top_10.ID.unique()\n",
    "\n",
    "for triada in range(1,5+1):\n",
    "  barplot_top_10(df_all_top_10,names_list[(triada-1)*3:triada*3])\n"
   ]
  },
  {
   "attachments": {},
   "cell_type": "markdown",
   "metadata": {
    "id": "G44c1dGrTc2C"
   },
   "source": [
    "## Export to CSV ##"
   ]
  },
  {
   "cell_type": "code",
   "execution_count": null,
   "metadata": {
    "id": "sHRAft_mTend"
   },
   "outputs": [],
   "source": [
    "df_all_top_10.to_csv('../data/top_10.csv', index=False)\n",
    "df_all_best_rmsds.to_csv('../data/top_rmsd.csv', index=False)"
   ]
  }
 ],
 "metadata": {
  "colab": {
   "authorship_tag": "ABX9TyMODO3xFSAxIlq69m6ckwDt",
   "collapsed_sections": [
    "5PoaFFlgDt1g",
    "bLKHSjYHzpYi",
    "G9UE6g4m2Ffq",
    "qgefPXTk3K88",
    "AtGJ3F4w7Zhz",
    "fObIIP0szvOT"
   ],
   "provenance": []
  },
  "kernelspec": {
   "display_name": "Python 3",
   "name": "python3"
  },
  "language_info": {
   "codemirror_mode": {
    "name": "ipython",
    "version": 3
   },
   "file_extension": ".py",
   "mimetype": "text/x-python",
   "name": "python",
   "nbconvert_exporter": "python",
   "pygments_lexer": "ipython3",
   "version": "3.9.13"
  }
 },
 "nbformat": 4,
 "nbformat_minor": 0
}

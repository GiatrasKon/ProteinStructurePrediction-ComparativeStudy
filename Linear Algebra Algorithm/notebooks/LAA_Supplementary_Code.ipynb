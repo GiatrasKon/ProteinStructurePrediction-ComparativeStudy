{
 "cells": [
  {
   "attachments": {},
   "cell_type": "markdown",
   "metadata": {
    "id": "2JoqCY9Fgxn9"
   },
   "source": [
    "Given a pdb file this code finds the CA atoms of the backbones and creates a distance matrix. It introduces perturbations with range 2% and creates intervals at the distance matrix which, the upper bound is in the upper part of the matrix and the lower at the low part, createting a perturbation matrix. From that, it creates the corresponding Cayley-Menger matrix, and exports it in Matlab format. After running the Matlab Linear Algebra Algorithm, the new Cayley-Menger matrix (in csv format) is imported and the corresponding distance matrix is created. The coordinates are then extracted from the distance matrix and the RMSD is calculated between these new coordinates and the coordinates of the original pdb file."
   ]
  },
  {
   "cell_type": "code",
   "execution_count": 1,
   "metadata": {
    "colab": {
     "base_uri": "https://localhost:8080/"
    },
    "executionInfo": {
     "elapsed": 686,
     "status": "ok",
     "timestamp": 1687332665545,
     "user": {
      "displayName": "Konstantinos Giatras",
      "userId": "04863872451704033837"
     },
     "user_tz": -180
    },
    "id": "3ivw3CO8huT9",
    "outputId": "87ee7455-3c24-4bc9-9284-34494cafc091"
   },
   "outputs": [],
   "source": [
    "# !pip install Bio"
   ]
  },
  {
   "cell_type": "code",
   "execution_count": 2,
   "metadata": {
    "id": "zxTfm3cFgoq5"
   },
   "outputs": [],
   "source": [
    "import pandas as pd\n",
    "from Bio.PDB import *\n",
    "import os\n",
    "import matplotlib.pyplot as plt\n",
    "import seaborn as sns\n",
    "import numpy as np\n",
    "import csv\n",
    "import warnings\n",
    "warnings.simplefilter('ignore')\n",
    "import matplotlib.pyplot as plt\n",
    "import random\n",
    "parser = PDBParser(PERMISSIVE=1)"
   ]
  },
  {
   "attachments": {},
   "cell_type": "markdown",
   "metadata": {},
   "source": [
    "For the 1anp protein"
   ]
  },
  {
   "cell_type": "code",
   "execution_count": null,
   "metadata": {
    "executionInfo": {
     "elapsed": 327,
     "status": "ok",
     "timestamp": 1688125575283,
     "user": {
      "displayName": "Konstantinos Giatras",
      "userId": "04863872451704033837"
     },
     "user_tz": -180
    },
    "id": "OzuJoo2nipf2"
   },
   "outputs": [],
   "source": [
    "pdb_file_path = \"../data//1anp_state2.pdb\" \n",
    "file_name = os.path.splitext(os.path.basename(pdb_file_path))[0]"
   ]
  },
  {
   "cell_type": "code",
   "execution_count": 4,
   "metadata": {
    "executionInfo": {
     "elapsed": 305,
     "status": "ok",
     "timestamp": 1688122824146,
     "user": {
      "displayName": "Konstantinos Giatras",
      "userId": "04863872451704033837"
     },
     "user_tz": -180
    },
    "id": "GNnT5T-vhom5"
   },
   "outputs": [],
   "source": [
    "def get_ca_atoms(file_name, pdb_file_path):\n",
    "  \"\"\"\n",
    "  Parses a PDB file and returns the coordinates of alpha carbons (CA).\n",
    "\n",
    "  Args:\n",
    "    file_name (str): The name of the PDB file to parse.\n",
    "    pdb_file_path (str): The path to the PDB file.\n",
    "\n",
    "Returns:\n",
    "    A numpy array containing the coordinates of alpha carbons (CA).\n",
    "  \"\"\"\n",
    "\n",
    "  structure = parser.get_structure(file_name, pdb_file_path)\n",
    "  ca_atoms = []\n",
    "\n",
    "  for model in structure:\n",
    "    for chain in model:\n",
    "      for residue in chain:\n",
    "        for atom in residue:\n",
    "          if atom.get_name() == 'CA':\n",
    "            ca_atoms.append(atom.get_coord())\n",
    "\n",
    "  return np.array(ca_atoms)"
   ]
  },
  {
   "cell_type": "code",
   "execution_count": 5,
   "metadata": {
    "colab": {
     "base_uri": "https://localhost:8080/"
    },
    "executionInfo": {
     "elapsed": 317,
     "status": "ok",
     "timestamp": 1688125578576,
     "user": {
      "displayName": "Konstantinos Giatras",
      "userId": "04863872451704033837"
     },
     "user_tz": -180
    },
    "id": "bSAV9ZxJkQnw",
    "outputId": "358fb67b-b5a3-4e5f-a8fb-417c99d8a0f3"
   },
   "outputs": [
    {
     "data": {
      "text/plain": [
       "(28, 3)"
      ]
     },
     "execution_count": 5,
     "metadata": {},
     "output_type": "execute_result"
    }
   ],
   "source": [
    "atoms = get_ca_atoms(file_name, pdb_file_path)\n",
    "atoms.shape"
   ]
  },
  {
   "cell_type": "code",
   "execution_count": 6,
   "metadata": {
    "executionInfo": {
     "elapsed": 304,
     "status": "ok",
     "timestamp": 1688124145006,
     "user": {
      "displayName": "Konstantinos Giatras",
      "userId": "04863872451704033837"
     },
     "user_tz": -180
    },
    "id": "K3UwHuzjktQ2"
   },
   "outputs": [],
   "source": [
    "def distance_mtrx(atoms):\n",
    "  n = atoms.shape[0]\n",
    "  cm_matrix = np.zeros(shape=(n, n))\n",
    "  for i in range(n):\n",
    "    for j in range(n):\n",
    "      if i <= j:\n",
    "        val_1 = atoms[i]\n",
    "        val_2 = atoms[j]\n",
    "        dist = np.linalg.norm(val_1-val_2)\n",
    "        cm_matrix[i][j] = (dist**2)/2\n",
    "        cm_matrix[j][i] = (dist**2)/2\n",
    "      elif i == j:\n",
    "        cm_matrix[i,j] = 0\n",
    "  return cm_matrix"
   ]
  },
  {
   "cell_type": "code",
   "execution_count": 7,
   "metadata": {
    "executionInfo": {
     "elapsed": 299,
     "status": "ok",
     "timestamp": 1688124147388,
     "user": {
      "displayName": "Konstantinos Giatras",
      "userId": "04863872451704033837"
     },
     "user_tz": -180
    },
    "id": "syLDDXNGlDm7"
   },
   "outputs": [],
   "source": [
    "dist_mtrx = distance_mtrx(atoms)"
   ]
  },
  {
   "cell_type": "code",
   "execution_count": 8,
   "metadata": {
    "colab": {
     "base_uri": "https://localhost:8080/"
    },
    "executionInfo": {
     "elapsed": 288,
     "status": "ok",
     "timestamp": 1688124149178,
     "user": {
      "displayName": "Konstantinos Giatras",
      "userId": "04863872451704033837"
     },
     "user_tz": -180
    },
    "id": "1_-d7e5wlZre",
    "outputId": "3e2b581f-c9eb-48c5-f0f0-36436fe851c1"
   },
   "outputs": [
    {
     "name": "stdout",
     "output_type": "stream",
     "text": [
      "True\n"
     ]
    }
   ],
   "source": [
    "# Check\n",
    "def is_symmetric(matrix):\n",
    "  return np.array_equal(matrix, matrix.T)\n",
    "\n",
    "print(is_symmetric(dist_mtrx))"
   ]
  },
  {
   "cell_type": "code",
   "execution_count": 9,
   "metadata": {
    "executionInfo": {
     "elapsed": 311,
     "status": "ok",
     "timestamp": 1688122876687,
     "user": {
      "displayName": "Konstantinos Giatras",
      "userId": "04863872451704033837"
     },
     "user_tz": -180
    },
    "id": "1l2jr2g4kU1K"
   },
   "outputs": [],
   "source": [
    "def perturb(matrix,perc):\n",
    "  pert_mtrx=np.zeros(shape=matrix.shape)\n",
    "  for i in range(matrix.shape[0]):\n",
    "    for j in range(matrix.shape[1]):\n",
    "      if i<j:  # since the diagonal is zero\n",
    "        num_upper = np.random.uniform(1, 1+perc/100)\n",
    "        num_lower = 2-num_upper\n",
    "        pert_mtrx[i,j] = abs(num_upper*matrix[i,j])\n",
    "        pert_mtrx[j,i] = abs(num_lower*matrix[i,j])\n",
    "      else: continue\n",
    "  return pert_mtrx"
   ]
  },
  {
   "cell_type": "code",
   "execution_count": 10,
   "metadata": {
    "executionInfo": {
     "elapsed": 331,
     "status": "ok",
     "timestamp": 1688124152340,
     "user": {
      "displayName": "Konstantinos Giatras",
      "userId": "04863872451704033837"
     },
     "user_tz": -180
    },
    "id": "amAnlP72mGDw"
   },
   "outputs": [],
   "source": [
    "pertr_mtrx = perturb(dist_mtrx, 2)"
   ]
  },
  {
   "cell_type": "code",
   "execution_count": 11,
   "metadata": {
    "colab": {
     "base_uri": "https://localhost:8080/",
     "height": 607
    },
    "executionInfo": {
     "elapsed": 1765,
     "status": "ok",
     "timestamp": 1688124155428,
     "user": {
      "displayName": "Konstantinos Giatras",
      "userId": "04863872451704033837"
     },
     "user_tz": -180
    },
    "id": "iD7c-KhsmNKt",
    "outputId": "3aa5ca34-c541-4d42-c94f-4b3699ef2222"
   },
   "outputs": [
    {
     "data": {
      "image/png": "[encoded data removed]",
      "text/plain": [
       "<Figure size 1500x600 with 4 Axes>"
      ]
     },
     "metadata": {},
     "output_type": "display_data"
    }
   ],
   "source": [
    "fig, axs = plt.subplots(1, 2, figsize=(15, 6))\n",
    "sns.heatmap(pertr_mtrx[:5, :5], annot=True, cmap='Blues', fmt='f', ax=axs[0])\n",
    "axs[0].set_title('Perturbation Matrix')\n",
    "\n",
    "sns.heatmap(dist_mtrx[:5, :5], annot=True, cmap='Blues', fmt='f', ax=axs[1])\n",
    "axs[1].set_title('Distance Matrix')\n",
    "\n",
    "plt.tight_layout()\n",
    "plt.show()"
   ]
  },
  {
   "cell_type": "code",
   "execution_count": 12,
   "metadata": {
    "executionInfo": {
     "elapsed": 370,
     "status": "ok",
     "timestamp": 1688122886121,
     "user": {
      "displayName": "Konstantinos Giatras",
      "userId": "04863872451704033837"
     },
     "user_tz": -180
    },
    "id": "Aw8y9vBIgpOO"
   },
   "outputs": [],
   "source": [
    "def cayley_menger(dist_mtrx):\n",
    "  n = dist_mtrx.shape[0]\n",
    "\n",
    "  # Create a matrix of appropriate size, initialized with zeros\n",
    "  cm_matrix = np.zeros((n+1, n+1))\n",
    "\n",
    "  # Fill the main part of the matrix with distances\n",
    "  cm_matrix[1:, 1:] = dist_mtrx\n",
    "\n",
    "  # Fill the first row and first column with ones, excluding the first element\n",
    "  cm_matrix[0, 1:] = 1\n",
    "  cm_matrix[1:, 0] = 1\n",
    "\n",
    "  return cm_matrix"
   ]
  },
  {
   "cell_type": "code",
   "execution_count": 13,
   "metadata": {
    "executionInfo": {
     "elapsed": 284,
     "status": "ok",
     "timestamp": 1688124159943,
     "user": {
      "displayName": "Konstantinos Giatras",
      "userId": "04863872451704033837"
     },
     "user_tz": -180
    },
    "id": "WKeWljmCgrK8"
   },
   "outputs": [],
   "source": [
    "# Create the Cayley-Menger matrix\n",
    "cm_mtrx = cayley_menger(pertr_mtrx)"
   ]
  },
  {
   "cell_type": "code",
   "execution_count": 14,
   "metadata": {
    "id": "BEueMHIxM4qc"
   },
   "outputs": [],
   "source": [
    "def write_cayley_menger(matrix, filename):\n",
    "    with open(filename, 'w') as f:\n",
    "        f.write(\"% Cayley-Menger matrix\\n\")\n",
    "        f.write(\"% non-symmetric, contains up/low bounds\\n\")\n",
    "        f.write(\"%\\n\")\n",
    "        f.write(\"function B = cm_mtrx()\\n\")\n",
    "        f.write(\" \\n\")\n",
    "        f.write(\"B = [\\n\")\n",
    "        for row in matrix:\n",
    "            f.write(\" \".join(map(str, row)) + \";\\n\")\n",
    "        f.write(\"];\\n\")\n",
    "        f.write(\"%\\n\")\n",
    "        f.write(\"% end of function cm_mtrx\\n\")"
   ]
  },
  {
   "cell_type": "code",
   "execution_count": null,
   "metadata": {
    "id": "sUAG4V5MNflU"
   },
   "outputs": [],
   "source": [
    "# Write the matrix to a file\n",
    "write_cayley_menger(cm_mtrx, '../data/cm_mtrx_1anp_state2.m')"
   ]
  },
  {
   "attachments": {},
   "cell_type": "markdown",
   "metadata": {},
   "source": [
    "After running the matlab code, we export the matrix variable as a csv file using: csvwrite('new_cm_mtrx.csv', ans)"
   ]
  },
  {
   "cell_type": "code",
   "execution_count": null,
   "metadata": {
    "executionInfo": {
     "elapsed": 311,
     "status": "ok",
     "timestamp": 1688124212370,
     "user": {
      "displayName": "Konstantinos Giatras",
      "userId": "04863872451704033837"
     },
     "user_tz": -180
    },
    "id": "Bknys_6aWSTS"
   },
   "outputs": [],
   "source": [
    "# Open the new csv file\n",
    "with open('../data/new_cm_mtrx_1anp_state2.csv', 'r') as f:\n",
    "    reader = csv.reader(f)\n",
    "\n",
    "    # Read every row in the csv file\n",
    "    data = list(reader)\n",
    "\n",
    "    # Convert the data to float numbers, because csv reader returns list of strings\n",
    "    data = [[float(num) for num in row] for row in data]\n",
    "\n",
    "# Convert the data to a numpy array\n",
    "new_cm_mtrx = np.array(data)"
   ]
  },
  {
   "cell_type": "code",
   "execution_count": 17,
   "metadata": {
    "colab": {
     "base_uri": "https://localhost:8080/"
    },
    "executionInfo": {
     "elapsed": 4,
     "status": "ok",
     "timestamp": 1688124215324,
     "user": {
      "displayName": "Konstantinos Giatras",
      "userId": "04863872451704033837"
     },
     "user_tz": -180
    },
    "id": "0PNtAswDWR3z",
    "outputId": "7c909e79-2f6a-42dc-d9b8-ea7311e14273"
   },
   "outputs": [
    {
     "name": "stdout",
     "output_type": "stream",
     "text": [
      "The rank of the matrix is 29\n"
     ]
    }
   ],
   "source": [
    "# Compute the rank of the new Cayley-Menger matrix (5 means embeddable in 3D space)\n",
    "rank = np.linalg.matrix_rank(new_cm_mtrx)\n",
    "\n",
    "print('The rank of the matrix is', rank)"
   ]
  },
  {
   "cell_type": "code",
   "execution_count": 18,
   "metadata": {
    "executionInfo": {
     "elapsed": 335,
     "status": "ok",
     "timestamp": 1688124218292,
     "user": {
      "displayName": "Konstantinos Giatras",
      "userId": "04863872451704033837"
     },
     "user_tz": -180
    },
    "id": "D3Cf8AVMliUo"
   },
   "outputs": [],
   "source": [
    "# Convert the Cayley-Menger matrix back to the distance matrix\n",
    "new_dist_mtrx = new_cm_mtrx[1:, 1:]"
   ]
  },
  {
   "cell_type": "code",
   "execution_count": 19,
   "metadata": {
    "executionInfo": {
     "elapsed": 314,
     "status": "ok",
     "timestamp": 1688124220459,
     "user": {
      "displayName": "Konstantinos Giatras",
      "userId": "04863872451704033837"
     },
     "user_tz": -180
    },
    "id": "J4R4ye4lmB4Y"
   },
   "outputs": [],
   "source": [
    "# Convert the Distance matrix to coordinates\n",
    "from sklearn.manifold import MDS\n",
    "\n",
    "# Create an MDS object for n-dimensional scaling (n=3 for 3D coordinates)\n",
    "mds = MDS(n_components=3, dissimilarity='precomputed', random_state=1)\n",
    "\n",
    "# Fit the MDS object to the distance matrix and retrieve the coordinates\n",
    "coords = mds.fit_transform(new_dist_mtrx)"
   ]
  },
  {
   "cell_type": "code",
   "execution_count": 20,
   "metadata": {},
   "outputs": [],
   "source": [
    "# Calculate c-RMSD between the two structures\n",
    "from Bio.SVDSuperimposer import SVDSuperimposer\n",
    "\n",
    "def list_to_numpy_arrays(coords):\n",
    "    \"\"\"\n",
    "    Convert a list of [x, y, z] coordinates to numpy arrays.\n",
    "    \"\"\"\n",
    "    return np.array(coords)\n",
    "\n",
    "def calc_rmsd_and_align(atoms1, atoms2):\n",
    "    \"\"\"\n",
    "    Align and calculate the RMSD between two sets of coordinates.\n",
    "    \"\"\"\n",
    "    assert len(atoms1) == len(atoms2)\n",
    "\n",
    "    # Create a SVDSuperimposer object\n",
    "    svd_super_imposer = SVDSuperimposer()\n",
    "\n",
    "    # Apply the superimposition on the coordinates\n",
    "    svd_super_imposer.set(atoms1, atoms2)\n",
    "\n",
    "    # Compute the rotation and translation matrices\n",
    "    svd_super_imposer.run()\n",
    "\n",
    "    # Get rotation and translation matrices\n",
    "    rot, tran = svd_super_imposer.get_rotran()\n",
    "\n",
    "    # Align the second coordinates to the first ones\n",
    "    atoms2 = np.dot(atoms2, rot) + tran\n",
    "\n",
    "    # Calculate the RMSD\n",
    "    rmsd = svd_super_imposer.get_rms()\n",
    "\n",
    "    # Return the aligned coords2 and the RMSD\n",
    "    return atoms2, rmsd"
   ]
  },
  {
   "cell_type": "code",
   "execution_count": 21,
   "metadata": {},
   "outputs": [],
   "source": [
    "# Convert lists of coordinates to numpy arrays\n",
    "atoms1 = list_to_numpy_arrays(coords) # 'coords' are from MDS\n",
    "atoms2 = list_to_numpy_arrays(atoms) # 'atoms' are from the PDB file\n",
    "\n",
    "aligned_coords2, rmsd = calc_rmsd_and_align(atoms1, atoms2)"
   ]
  },
  {
   "cell_type": "code",
   "execution_count": 22,
   "metadata": {},
   "outputs": [
    {
     "name": "stdout",
     "output_type": "stream",
     "text": [
      "The c-RMSD between the two structures is: 41.37902340372046 Angstrom\n"
     ]
    }
   ],
   "source": [
    "print('The c-RMSD between the two structures is:', rmsd, 'Angstrom')"
   ]
  }
 ],
 "metadata": {
  "colab": {
   "provenance": []
  },
  "kernelspec": {
   "display_name": "Python 3",
   "name": "python3"
  },
  "language_info": {
   "codemirror_mode": {
    "name": "ipython",
    "version": 3
   },
   "file_extension": ".py",
   "mimetype": "text/x-python",
   "name": "python",
   "nbconvert_exporter": "python",
   "pygments_lexer": "ipython3",
   "version": "3.9.13"
  }
 },
 "nbformat": 4,
 "nbformat_minor": 0
}
